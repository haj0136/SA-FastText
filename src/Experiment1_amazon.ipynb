{
 "cells": [
  {
   "cell_type": "code",
   "execution_count": 1,
   "outputs": [],
   "source": [
    "import pandas as pd\n",
    "from skift import FirstColFtClassifier\n",
    "from sklearn.metrics import classification_report\n",
    "from sklearn.metrics import accuracy_score\n",
    "from sklearn.metrics import confusion_matrix"
   ],
   "metadata": {
    "collapsed": false,
    "pycharm": {
     "name": "#%%\n",
     "is_executing": false
    }
   }
  },
  {
   "cell_type": "markdown",
   "metadata": {
    "collapsed": true,
    "pycharm": {
     "is_executing": false,
     "name": "#%% md\n"
    }
   },
   "source": [
    "# EXPERIMENT 1"
   ]
  },
  {
   "cell_type": "markdown",
   "source": [
    "## Amazon"
   ],
   "metadata": {
    "collapsed": false
   }
  },
  {
   "cell_type": "code",
   "execution_count": 2,
   "outputs": [
    {
     "name": "stdout",
     "text": [
      "Words count: 78450202\n"
     ],
     "output_type": "stream"
    },
    {
     "data": {
      "text/plain": "        Sentiment                                      SentimentText\n0               0  defective: i was really excited to get the fis...\n1               1  m-audio 2496 sound card: excellent sound card ...\n2               0  missing links: it's a shame the quality of thi...\n3               0  tribute album: this is a tribute album...i did...\n4               1  pretty good: it does taste pretty good and is ...\n...           ...                                                ...\n999995          1  tlc...... need i say more: tlc is the best gro...\n999996          1  alternative ending: an excellent book no doubt...\n999997          1  p-town series: i read these out of order becau...\n999998          0  pretty sad....: this book would play out bette...\n999999          1  awesome funky jazz band, definetly check them ...\n\n[1000000 rows x 2 columns]",
      "text/html": "<div>\n<style scoped>\n    .dataframe tbody tr th:only-of-type {\n        vertical-align: middle;\n    }\n\n    .dataframe tbody tr th {\n        vertical-align: top;\n    }\n\n    .dataframe thead th {\n        text-align: right;\n    }\n</style>\n<table border=\"1\" class=\"dataframe\">\n  <thead>\n    <tr style=\"text-align: right;\">\n      <th></th>\n      <th>Sentiment</th>\n      <th>SentimentText</th>\n    </tr>\n  </thead>\n  <tbody>\n    <tr>\n      <th>0</th>\n      <td>0</td>\n      <td>defective: i was really excited to get the fis...</td>\n    </tr>\n    <tr>\n      <th>1</th>\n      <td>1</td>\n      <td>m-audio 2496 sound card: excellent sound card ...</td>\n    </tr>\n    <tr>\n      <th>2</th>\n      <td>0</td>\n      <td>missing links: it's a shame the quality of thi...</td>\n    </tr>\n    <tr>\n      <th>3</th>\n      <td>0</td>\n      <td>tribute album: this is a tribute album...i did...</td>\n    </tr>\n    <tr>\n      <th>4</th>\n      <td>1</td>\n      <td>pretty good: it does taste pretty good and is ...</td>\n    </tr>\n    <tr>\n      <th>...</th>\n      <td>...</td>\n      <td>...</td>\n    </tr>\n    <tr>\n      <th>999995</th>\n      <td>1</td>\n      <td>tlc...... need i say more: tlc is the best gro...</td>\n    </tr>\n    <tr>\n      <th>999996</th>\n      <td>1</td>\n      <td>alternative ending: an excellent book no doubt...</td>\n    </tr>\n    <tr>\n      <th>999997</th>\n      <td>1</td>\n      <td>p-town series: i read these out of order becau...</td>\n    </tr>\n    <tr>\n      <th>999998</th>\n      <td>0</td>\n      <td>pretty sad....: this book would play out bette...</td>\n    </tr>\n    <tr>\n      <th>999999</th>\n      <td>1</td>\n      <td>awesome funky jazz band, definetly check them ...</td>\n    </tr>\n  </tbody>\n</table>\n<p>1000000 rows × 2 columns</p>\n</div>"
     },
     "metadata": {},
     "output_type": "execute_result",
     "execution_count": 2
    }
   ],
   "source": [
    "# train data\n",
    "data_train = pd.read_csv('../data/AmazonTrainSet1M.tsv', sep='\\t', header=0, encoding=\"utf-8\")\n",
    "data_train['SentimentText'] = data_train['SentimentText'].str.lower()\n",
    "row_sizes = data_train['SentimentText'].str.split().str.len()\n",
    "print(f\"Words count: {pd.Series.sum(row_sizes)}\")\n",
    "data_train"
   ],
   "metadata": {
    "collapsed": false,
    "pycharm": {
     "name": "#%%\n",
     "is_executing": false
    }
   }
  },
  {
   "cell_type": "code",
   "source": [
    "# test data\n",
    "data_test = pd.read_csv('../data/AmazonTestSet400k2.tsv', sep='\\t', header=0, encoding=\"utf-8\")\n",
    "data_test['SentimentText'] = data_test['SentimentText'].str.lower()\n",
    "row_sizes = data_test['SentimentText'].str.split().str.len()\n",
    "print(f\"Words count: {pd.Series.sum(row_sizes)}\")\n",
    "data_test"
   ],
   "metadata": {
    "collapsed": false,
    "pycharm": {
     "name": "#%%\n",
     "is_executing": false
    }
   },
   "execution_count": 3,
   "outputs": [
    {
     "name": "stdout",
     "text": [
      "Words count: 31369658\n"
     ],
     "output_type": "stream"
    },
    {
     "data": {
      "text/plain": "        Sentiment                                      SentimentText\n0               1  this is a great book: i must preface this by s...\n1               0  huge disappointment.: as a big time, long term...\n2               1  wayne is tight but cant hang with turk.: this ...\n3               1  excellent: i read this book when i was in elem...\n4               0  not about anusara: although this book is toute...\n...           ...                                                ...\n399995          0  you can fool all the people some of the time b...\n399996          0  it was good but not good: it was an 'okay' boo...\n399997          0  unwatchable: the product arrived promptly and ...\n399998          0  not worth the money or the time to read.: the ...\n399999          1  a nice shift into a gifted mind with multiple ...\n\n[400000 rows x 2 columns]",
      "text/html": "<div>\n<style scoped>\n    .dataframe tbody tr th:only-of-type {\n        vertical-align: middle;\n    }\n\n    .dataframe tbody tr th {\n        vertical-align: top;\n    }\n\n    .dataframe thead th {\n        text-align: right;\n    }\n</style>\n<table border=\"1\" class=\"dataframe\">\n  <thead>\n    <tr style=\"text-align: right;\">\n      <th></th>\n      <th>Sentiment</th>\n      <th>SentimentText</th>\n    </tr>\n  </thead>\n  <tbody>\n    <tr>\n      <th>0</th>\n      <td>1</td>\n      <td>this is a great book: i must preface this by s...</td>\n    </tr>\n    <tr>\n      <th>1</th>\n      <td>0</td>\n      <td>huge disappointment.: as a big time, long term...</td>\n    </tr>\n    <tr>\n      <th>2</th>\n      <td>1</td>\n      <td>wayne is tight but cant hang with turk.: this ...</td>\n    </tr>\n    <tr>\n      <th>3</th>\n      <td>1</td>\n      <td>excellent: i read this book when i was in elem...</td>\n    </tr>\n    <tr>\n      <th>4</th>\n      <td>0</td>\n      <td>not about anusara: although this book is toute...</td>\n    </tr>\n    <tr>\n      <th>...</th>\n      <td>...</td>\n      <td>...</td>\n    </tr>\n    <tr>\n      <th>399995</th>\n      <td>0</td>\n      <td>you can fool all the people some of the time b...</td>\n    </tr>\n    <tr>\n      <th>399996</th>\n      <td>0</td>\n      <td>it was good but not good: it was an 'okay' boo...</td>\n    </tr>\n    <tr>\n      <th>399997</th>\n      <td>0</td>\n      <td>unwatchable: the product arrived promptly and ...</td>\n    </tr>\n    <tr>\n      <th>399998</th>\n      <td>0</td>\n      <td>not worth the money or the time to read.: the ...</td>\n    </tr>\n    <tr>\n      <th>399999</th>\n      <td>1</td>\n      <td>a nice shift into a gifted mind with multiple ...</td>\n    </tr>\n  </tbody>\n</table>\n<p>400000 rows × 2 columns</p>\n</div>"
     },
     "metadata": {},
     "output_type": "execute_result",
     "execution_count": 3
    }
   ]
  },
  {
   "cell_type": "code",
   "execution_count": 4,
   "outputs": [],
   "source": [
    "sk_clf = FirstColFtClassifier(thread=1)  # lr=0.3, epoch=10\n",
    "sk_clf.fit(data_train[['SentimentText']], data_train['Sentiment'])\n",
    "score = sk_clf.score(data_test[['SentimentText']], data_test['Sentiment'])"
   ],
   "metadata": {
    "collapsed": false,
    "pycharm": {
     "name": "#%%\n",
     "is_executing": false
    }
   }
  },
  {
   "cell_type": "code",
   "execution_count": 5,
   "outputs": [
    {
     "name": "stdout",
     "text": [
      "0.9085275\n",
      "              precision    recall  f1-score   support\n",
      "\n",
      "           0       0.91      0.91      0.91    200000\n",
      "           1       0.91      0.91      0.91    200000\n",
      "\n",
      "    accuracy                           0.91    400000\n",
      "   macro avg       0.91      0.91      0.91    400000\n",
      "weighted avg       0.91      0.91      0.91    400000\n",
      "\n"
     ],
     "output_type": "stream"
    }
   ],
   "source": [
    "print(score)\n",
    "y_pred = sk_clf.predict(data_test[['SentimentText']])\n",
    "print(classification_report(data_test['Sentiment'], y_pred))"
   ],
   "metadata": {
    "collapsed": false,
    "pycharm": {
     "name": "#%%\n",
     "is_executing": false
    }
   }
  },
  {
   "cell_type": "code",
   "execution_count": 6,
   "outputs": [
    {
     "name": "stdout",
     "text": [
      "0.9085275\n"
     ],
     "output_type": "stream"
    },
    {
     "data": {
      "text/plain": "array([[182234,  17766],\n       [ 18823, 181177]], dtype=int64)"
     },
     "metadata": {},
     "output_type": "execute_result",
     "execution_count": 6
    }
   ],
   "source": [
    "print(accuracy_score(data_test['Sentiment'], y_pred))\n",
    "confusion_matrix(data_test['Sentiment'], y_pred)"
   ],
   "metadata": {
    "collapsed": false,
    "pycharm": {
     "name": "#%%\n",
     "is_executing": false
    }
   }
  }
 ],
 "metadata": {
  "kernelspec": {
   "display_name": "Python 3",
   "language": "python",
   "name": "python3"
  },
  "language_info": {
   "codemirror_mode": {
    "name": "ipython",
    "version": 3
   },
   "file_extension": ".py",
   "mimetype": "text/x-python",
   "name": "python",
   "nbconvert_exporter": "python",
   "pygments_lexer": "ipython3",
   "version": "3.7.4"
  },
  "pycharm": {
   "stem_cell": {
    "cell_type": "raw",
    "source": [],
    "metadata": {
     "collapsed": false
    }
   }
  }
 },
 "nbformat": 4,
 "nbformat_minor": 1
}