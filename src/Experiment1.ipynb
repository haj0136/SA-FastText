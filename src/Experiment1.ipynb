{
 "cells": [
  {
   "cell_type": "code",
   "execution_count": 1,
   "outputs": [],
   "source": [
    "import pandas as pd\n",
    "import numpy as np\n",
    "from skift import FirstColFtClassifier\n",
    "from sklearn.model_selection import cross_val_score"
   ],
   "metadata": {
    "collapsed": false,
    "pycharm": {
     "name": "#%%\n",
     "is_executing": false
    }
   }
  },
  {
   "cell_type": "markdown",
   "metadata": {
    "collapsed": true,
    "pycharm": {
     "is_executing": false,
     "name": "#%% md\n"
    }
   },
   "source": [
    "# EXPERIMENT 1"
   ]
  },
  {
   "cell_type": "markdown",
   "source": [
    "## YELP"
   ],
   "metadata": {
    "collapsed": false
   }
  },
  {
   "cell_type": "code",
   "execution_count": 68,
   "metadata": {
    "pycharm": {
     "is_executing": false,
     "name": "#%%\n"
    }
   },
   "outputs": [
    {
     "name": "stdout",
     "text": [
      "Words count: 10894\n"
     ],
     "output_type": "stream"
    },
    {
     "data": {
      "text/plain": "                                         SentimentText  Sentiment\n0                             Wow... Loved this place.          1\n1                                   Crust is not good.          0\n2            Not tasty and the texture was just nasty.          0\n3    Stopped by during the late May bank holiday of...          1\n4    The selection on the menu was great and so wer...          1\n..                                                 ...        ...\n995  I think food should have flavor and texture an...          0\n996                           Appetite instantly gone.          0\n997  Overall I was not impressed and would not go b...          0\n998  The whole experience was underwhelming, and I ...          0\n999  Then, as if I hadn't wasted enough of my life ...          0\n\n[1000 rows x 2 columns]",
      "text/html": "<div>\n<style scoped>\n    .dataframe tbody tr th:only-of-type {\n        vertical-align: middle;\n    }\n\n    .dataframe tbody tr th {\n        vertical-align: top;\n    }\n\n    .dataframe thead th {\n        text-align: right;\n    }\n</style>\n<table border=\"1\" class=\"dataframe\">\n  <thead>\n    <tr style=\"text-align: right;\">\n      <th></th>\n      <th>SentimentText</th>\n      <th>Sentiment</th>\n    </tr>\n  </thead>\n  <tbody>\n    <tr>\n      <th>0</th>\n      <td>Wow... Loved this place.</td>\n      <td>1</td>\n    </tr>\n    <tr>\n      <th>1</th>\n      <td>Crust is not good.</td>\n      <td>0</td>\n    </tr>\n    <tr>\n      <th>2</th>\n      <td>Not tasty and the texture was just nasty.</td>\n      <td>0</td>\n    </tr>\n    <tr>\n      <th>3</th>\n      <td>Stopped by during the late May bank holiday of...</td>\n      <td>1</td>\n    </tr>\n    <tr>\n      <th>4</th>\n      <td>The selection on the menu was great and so wer...</td>\n      <td>1</td>\n    </tr>\n    <tr>\n      <th>...</th>\n      <td>...</td>\n      <td>...</td>\n    </tr>\n    <tr>\n      <th>995</th>\n      <td>I think food should have flavor and texture an...</td>\n      <td>0</td>\n    </tr>\n    <tr>\n      <th>996</th>\n      <td>Appetite instantly gone.</td>\n      <td>0</td>\n    </tr>\n    <tr>\n      <th>997</th>\n      <td>Overall I was not impressed and would not go b...</td>\n      <td>0</td>\n    </tr>\n    <tr>\n      <th>998</th>\n      <td>The whole experience was underwhelming, and I ...</td>\n      <td>0</td>\n    </tr>\n    <tr>\n      <th>999</th>\n      <td>Then, as if I hadn't wasted enough of my life ...</td>\n      <td>0</td>\n    </tr>\n  </tbody>\n</table>\n<p>1000 rows × 2 columns</p>\n</div>"
     },
     "metadata": {},
     "output_type": "execute_result",
     "execution_count": 68
    }
   ],
   "source": [
    "yelpData = pd.read_csv('../data/yelp_labelled.txt', sep='\\t', header=0, encoding=\"utf-8\")\n",
    "row_sizes = yelpData['SentimentText'].str.split().str.len()\n",
    "print(f\"Words count: {pd.Series.sum(row_sizes)}\")\n",
    "yelpData"
   ]
  },
  {
   "cell_type": "code",
   "execution_count": 117,
   "outputs": [],
   "source": [
    "sk_clf = FirstColFtClassifier(thread=1, verbose=4)  # lr=0.3, epoch=10\n",
    "scores = cross_val_score(sk_clf, yelpData[['SentimentText']], yelpData['Sentiment'], cv=5, scoring='accuracy')\n"
   ],
   "metadata": {
    "collapsed": false,
    "pycharm": {
     "name": "#%%\n",
     "is_executing": false
    }
   }
  },
  {
   "cell_type": "code",
   "execution_count": 116,
   "outputs": [
    {
     "name": "stdout",
     "text": [
      "[0.58  0.615 0.57  0.585 0.565]\n",
      "Average Score: 0.583\n"
     ],
     "output_type": "stream"
    }
   ],
   "source": [
    "print(scores)\n",
    "print(f\"Average Score: {np.mean(scores)}\")"
   ],
   "metadata": {
    "collapsed": false,
    "pycharm": {
     "name": "#%%\n",
     "is_executing": false
    }
   }
  },
  {
   "cell_type": "markdown",
   "source": [
    "## IMDB"
   ],
   "metadata": {
    "collapsed": false
   }
  },
  {
   "cell_type": "code",
   "execution_count": 2,
   "outputs": [
    {
     "name": "stdout",
     "text": [
      "Words count: 11557842\n"
     ],
     "output_type": "stream"
    },
    {
     "data": {
      "text/plain": "            id  Sentiment                                      SentimentText\n0       4100_3          0  A bit of a disappointing film, I'd say: the ac...\n1       4108_2          0  The acting was terrible, the cheesy, fake, CHE...\n2      10267_8          1  Plenty has been written about Mamet's \"The Hou...\n3      10674_7          1  \"Journey to the Far Side of the Sun\" (aka \"Dop...\n4      11072_8          1  I lived in that area (Hoboken and Jersey City)...\n...        ...        ...                                                ...\n49995    453_9          1  As a big Dostoyevsky fan, I had always been di...\n49996   3147_1          0  I didn't watch this show that much when I was ...\n49997   7721_8          1  For people who are first timers in film making...\n49998   5544_3          0  Pumpkinhead was in itself a decent 80s horror ...\n49999  9438_10          1  I would like to start by saying I can only hop...\n\n[50000 rows x 3 columns]",
      "text/html": "<div>\n<style scoped>\n    .dataframe tbody tr th:only-of-type {\n        vertical-align: middle;\n    }\n\n    .dataframe tbody tr th {\n        vertical-align: top;\n    }\n\n    .dataframe thead th {\n        text-align: right;\n    }\n</style>\n<table border=\"1\" class=\"dataframe\">\n  <thead>\n    <tr style=\"text-align: right;\">\n      <th></th>\n      <th>id</th>\n      <th>Sentiment</th>\n      <th>SentimentText</th>\n    </tr>\n  </thead>\n  <tbody>\n    <tr>\n      <th>0</th>\n      <td>4100_3</td>\n      <td>0</td>\n      <td>A bit of a disappointing film, I'd say: the ac...</td>\n    </tr>\n    <tr>\n      <th>1</th>\n      <td>4108_2</td>\n      <td>0</td>\n      <td>The acting was terrible, the cheesy, fake, CHE...</td>\n    </tr>\n    <tr>\n      <th>2</th>\n      <td>10267_8</td>\n      <td>1</td>\n      <td>Plenty has been written about Mamet's \"The Hou...</td>\n    </tr>\n    <tr>\n      <th>3</th>\n      <td>10674_7</td>\n      <td>1</td>\n      <td>\"Journey to the Far Side of the Sun\" (aka \"Dop...</td>\n    </tr>\n    <tr>\n      <th>4</th>\n      <td>11072_8</td>\n      <td>1</td>\n      <td>I lived in that area (Hoboken and Jersey City)...</td>\n    </tr>\n    <tr>\n      <th>...</th>\n      <td>...</td>\n      <td>...</td>\n      <td>...</td>\n    </tr>\n    <tr>\n      <th>49995</th>\n      <td>453_9</td>\n      <td>1</td>\n      <td>As a big Dostoyevsky fan, I had always been di...</td>\n    </tr>\n    <tr>\n      <th>49996</th>\n      <td>3147_1</td>\n      <td>0</td>\n      <td>I didn't watch this show that much when I was ...</td>\n    </tr>\n    <tr>\n      <th>49997</th>\n      <td>7721_8</td>\n      <td>1</td>\n      <td>For people who are first timers in film making...</td>\n    </tr>\n    <tr>\n      <th>49998</th>\n      <td>5544_3</td>\n      <td>0</td>\n      <td>Pumpkinhead was in itself a decent 80s horror ...</td>\n    </tr>\n    <tr>\n      <th>49999</th>\n      <td>9438_10</td>\n      <td>1</td>\n      <td>I would like to start by saying I can only hop...</td>\n    </tr>\n  </tbody>\n</table>\n<p>50000 rows × 3 columns</p>\n</div>"
     },
     "metadata": {},
     "output_type": "execute_result",
     "execution_count": 2
    }
   ],
   "source": [
    "imdbData = pd.read_csv('../data/imdb_50k.tsv', sep='\\t', header=0, encoding=\"utf-8\", doublequote=False, escapechar=\"\\\\\")\n",
    "row_sizes = imdbData['SentimentText'].str.split().str.len()\n",
    "print(f\"Words count: {pd.Series.sum(row_sizes)}\")\n",
    "imdbData"
   ],
   "metadata": {
    "collapsed": false,
    "pycharm": {
     "name": "#%%\n",
     "is_executing": false
    }
   }
  },
  {
   "cell_type": "code",
   "execution_count": 3,
   "outputs": [],
   "source": [
    "sk_clf = FirstColFtClassifier()  # lr=0.3, epoch=10\n",
    "scores = cross_val_score(sk_clf, imdbData[['SentimentText']], imdbData['Sentiment'], cv=5, scoring='accuracy')"
   ],
   "metadata": {
    "collapsed": false,
    "pycharm": {
     "name": "#%%\n",
     "is_executing": false
    }
   }
  },
  {
   "cell_type": "code",
   "execution_count": 4,
   "outputs": [
    {
     "name": "stdout",
     "text": [
      "[0.8795 0.8791 0.8774 0.878  0.8801]\n",
      "Average Score: 0.8788199999999999\n"
     ],
     "output_type": "stream"
    }
   ],
   "source": [
    "print(scores)\n",
    "print(f\"Average Score: {np.mean(scores)}\")\n",
    "\n"
   ],
   "metadata": {
    "collapsed": false,
    "pycharm": {
     "name": "#%%\n",
     "is_executing": false
    }
   }
  }
 ],
 "metadata": {
  "kernelspec": {
   "display_name": "Python 3",
   "language": "python",
   "name": "python3"
  },
  "language_info": {
   "codemirror_mode": {
    "name": "ipython",
    "version": 3
   },
   "file_extension": ".py",
   "mimetype": "text/x-python",
   "name": "python",
   "nbconvert_exporter": "python",
   "pygments_lexer": "ipython3",
   "version": "3.7.4"
  },
  "pycharm": {
   "stem_cell": {
    "cell_type": "raw",
    "source": [],
    "metadata": {
     "collapsed": false
    }
   }
  }
 },
 "nbformat": 4,
 "nbformat_minor": 1
}